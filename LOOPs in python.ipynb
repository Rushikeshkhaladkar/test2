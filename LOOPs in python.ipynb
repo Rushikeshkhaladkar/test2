{
 "cells": [
  {
   "cell_type": "code",
   "execution_count": 7,
   "id": "4de794d5",
   "metadata": {},
   "outputs": [
    {
     "name": "stdout",
     "output_type": "stream",
     "text": [
      "0\n",
      "1\n",
      "2\n",
      "3\n",
      "4\n",
      "5\n",
      "6\n",
      "7\n",
      "8\n",
      "9\n",
      "10\n",
      "11\n",
      "12\n",
      "13\n",
      "14\n",
      "15\n",
      "16\n",
      "17\n",
      "18\n",
      "19\n",
      "20\n",
      "21\n",
      "22\n",
      "23\n",
      "24\n",
      "25\n",
      "26\n",
      "27\n",
      "28\n",
      "29\n",
      "30\n",
      "31\n",
      "32\n",
      "33\n",
      "34\n",
      "35\n",
      "36\n",
      "37\n",
      "38\n",
      "39\n",
      "40\n",
      "41\n",
      "42\n",
      "43\n",
      "44\n",
      "45\n",
      "46\n",
      "47\n",
      "48\n",
      "49\n",
      "50\n"
     ]
    }
   ],
   "source": [
    "i = 0\n",
    "while(i<=50):\n",
    "    print(i)\n",
    "    i = i + 1\n",
    "    \n",
    "    \n",
    "    \n",
    "    "
   ]
  },
  {
   "cell_type": "code",
   "execution_count": 3,
   "id": "cee30e64",
   "metadata": {},
   "outputs": [
    {
     "name": "stdout",
     "output_type": "stream",
     "text": [
      "Rushii  1\n",
      "Rushii  2\n",
      "Rushii  3\n",
      "Rushii  4\n",
      "Rushii  5\n",
      "Rushii  6\n",
      "Rushii  7\n",
      "Rushii  8\n",
      "Rushii  9\n",
      "Rushii  10\n"
     ]
    }
   ],
   "source": [
    "i = 1\n",
    "\n",
    "while(i<=10):\n",
    "    print(\"Rushii \", (i))\n",
    "    i = i + 1\n",
    "    \n",
    "    "
   ]
  },
  {
   "cell_type": "code",
   "execution_count": 1,
   "id": "e58696a0",
   "metadata": {},
   "outputs": [
    {
     "name": "stdout",
     "output_type": "stream",
     "text": [
      "mango\n",
      "banana\n",
      "apple\n",
      "watermelon\n"
     ]
    }
   ],
   "source": [
    "Fruits = [\"mango\",'banana',\"apple\",\"watermelon\"]\n",
    "i = 0\n",
    "while i<len(Fruits):\n",
    "    print(Fruits[i])\n",
    "    i = i + 1\n",
    "    \n",
    "    \n",
    "    "
   ]
  },
  {
   "cell_type": "markdown",
   "id": "c5ae1dcb",
   "metadata": {},
   "source": [
    "### For Loop"
   ]
  },
  {
   "cell_type": "code",
   "execution_count": 2,
   "id": "a9bf0975",
   "metadata": {
    "scrolled": true
   },
   "outputs": [
    {
     "name": "stdout",
     "output_type": "stream",
     "text": [
      "1\n",
      "2\n",
      "3\n",
      "4\n",
      "5\n",
      "done\n"
     ]
    }
   ],
   "source": [
    "a = [1,2,3,4,5]\n",
    "for item in a:\n",
    "    print(item)\n",
    "    \n",
    "else:\n",
    "    print(\"done\")"
   ]
  },
  {
   "cell_type": "markdown",
   "id": "1af5b44d",
   "metadata": {},
   "source": [
    "### Range Function In Python\n",
    "### Break\n",
    "### continue\n",
    "### Pass"
   ]
  },
  {
   "cell_type": "code",
   "execution_count": 4,
   "id": "71350543",
   "metadata": {},
   "outputs": [
    {
     "name": "stdout",
     "output_type": "stream",
     "text": [
      "0\n",
      "1\n",
      "2\n",
      "3\n",
      "4\n",
      "5\n"
     ]
    }
   ],
   "source": [
    "for i in range(10):\n",
    "    print(i)\n",
    "    if i == 5:\n",
    "        break\n",
    "    \n",
    "else:\n",
    "    print(\"the 5 has been removed\")\n",
    "    \n",
    "    \n",
    "        \n",
    "        \n",
    "\n",
    "    "
   ]
  },
  {
   "cell_type": "code",
   "execution_count": 8,
   "id": "05c4902f",
   "metadata": {},
   "outputs": [
    {
     "name": "stdout",
     "output_type": "stream",
     "text": [
      "1\n",
      "2\n",
      "3\n",
      "4\n",
      "6\n",
      "7\n",
      "8\n",
      "9\n",
      "the 5 has been removed\n"
     ]
    }
   ],
   "source": [
    "for i in range(1,10):\n",
    "    if i == 5:\n",
    "         continue\n",
    "            \n",
    "    print(i)\n",
    "    \n",
    "else:\n",
    "    print(\"the 5 has been removed\")\n",
    "    "
   ]
  },
  {
   "cell_type": "code",
   "execution_count": 12,
   "id": "3c62250f",
   "metadata": {},
   "outputs": [
    {
     "name": "stdout",
     "output_type": "stream",
     "text": [
      "raj is a good boy\n"
     ]
    }
   ],
   "source": [
    "i = 10\n",
    "if i>100:\n",
    "    pass\n",
    " \n",
    "print(\"raj is a good boy\")"
   ]
  },
  {
   "cell_type": "code",
   "execution_count": 15,
   "id": "f5db865b",
   "metadata": {},
   "outputs": [
    {
     "name": "stdout",
     "output_type": "stream",
     "text": [
      "1\n",
      "2\n",
      "3\n",
      "4\n"
     ]
    }
   ],
   "source": [
    "rushi = [ 1,2,3,4]\n",
    "for items in rushi:\n",
    "    print(items)"
   ]
  },
  {
   "cell_type": "code",
   "execution_count": 26,
   "id": "a9279f00",
   "metadata": {},
   "outputs": [
    {
     "name": "stdout",
     "output_type": "stream",
     "text": [
      "Enter the number 12\n",
      "12 x 1=12\n",
      "12 x 2=24\n",
      "12 x 3=36\n",
      "12 x 4=48\n",
      "12 x 5=60\n",
      "12 x 6=72\n",
      "12 x 7=84\n",
      "12 x 8=96\n",
      "12 x 9=108\n",
      "12 x 10=120\n"
     ]
    }
   ],
   "source": [
    "num = int(input(\"Enter the number \"))\n",
    "for i in range(1,11):\n",
    "    print(str(num) +  \" x \" + str(i) + \"=\" + str(i*num)) "
   ]
  },
  {
   "cell_type": "code",
   "execution_count": 28,
   "id": "d5be3236",
   "metadata": {},
   "outputs": [
    {
     "name": "stdout",
     "output_type": "stream",
     "text": [
      "Enter the number 12\n",
      "12x1=12\n",
      "12x2=12\n",
      "12x3=12\n",
      "12x4=12\n",
      "12x5=12\n",
      "12x6=12\n",
      "12x7=12\n",
      "12x8=12\n",
      "12x9=12\n",
      "12x10=12\n"
     ]
    }
   ],
   "source": [
    "num = int(input(\"Enter the number \"))\n",
    "for i in range(1,11):\n",
    "    print(f\"{num}x{i}={num*1}\")"
   ]
  },
  {
   "cell_type": "code",
   "execution_count": null,
   "id": "d64c9e99",
   "metadata": {},
   "outputs": [],
   "source": [
    "(f\"{num}x{i}={num*1}\")"
   ]
  },
  {
   "cell_type": "code",
   "execution_count": 38,
   "id": "fde57212",
   "metadata": {},
   "outputs": [
    {
     "name": "stdout",
     "output_type": "stream",
     "text": [
      "hello soham\n",
      "hello sachin\n"
     ]
    }
   ],
   "source": [
    "l1 = [\"harry\",\"soham\",\"sachin\",\"rahul\"]\n",
    "for name in l1:\n",
    "    if name.startswith(\"s\"):\n",
    "        print(\"hello \"  + name)\n",
    "    "
   ]
  },
  {
   "cell_type": "markdown",
   "id": "ac8be4a0",
   "metadata": {},
   "source": [
    "### prime number\n"
   ]
  },
  {
   "cell_type": "code",
   "execution_count": 3,
   "id": "f40a9c72",
   "metadata": {},
   "outputs": [
    {
     "name": "stdout",
     "output_type": "stream",
     "text": [
      "Enter the number: 56\n",
      "this is not prime number\n"
     ]
    }
   ],
   "source": [
    "num = int(input(\"Enter the number: \"))\n",
    "prime = True\n",
    "\n",
    "for i in range(2,num):\n",
    "    if (num%i == 0):\n",
    "        prime = False\n",
    "        break\n",
    "if prime:\n",
    "    print(\"this is prime number\")\n",
    "else:\n",
    "    print(\"this is not prime number\")"
   ]
  },
  {
   "cell_type": "markdown",
   "id": "ee7f462b",
   "metadata": {},
   "source": [
    "### factorial\n"
   ]
  },
  {
   "cell_type": "code",
   "execution_count": 9,
   "id": "ec2a545c",
   "metadata": {},
   "outputs": [
    {
     "name": "stdout",
     "output_type": "stream",
     "text": [
      "Enter the number: 4\n",
      "the factorial of 4 is 1\n"
     ]
    }
   ],
   "source": [
    "num = int(input(\"Enter the number: \"))\n",
    "factorial = 1\n",
    "for i in range(1, num+1):\n",
    "    factorial = factorial * 1\n",
    "print(f\"the factorial of {num} is {factorial}\")"
   ]
  },
  {
   "cell_type": "code",
   "execution_count": 11,
   "id": "55a5457a",
   "metadata": {},
   "outputs": [
    {
     "name": "stdout",
     "output_type": "stream",
     "text": [
      "*\n",
      "**\n",
      "***\n",
      "****\n",
      "*****\n"
     ]
    }
   ],
   "source": [
    "r = 5\n",
    "for i in range(5):\n",
    "    print(\"*\" * (i+1))"
   ]
  },
  {
   "cell_type": "code",
   "execution_count": 12,
   "id": "283ec259",
   "metadata": {},
   "outputs": [
    {
     "name": "stdout",
     "output_type": "stream",
     "text": [
      "?\n",
      "??\n",
      "???\n",
      "????\n",
      "?????\n"
     ]
    }
   ],
   "source": [
    "r = 5\n",
    "for i in range(5):\n",
    "    print(\"?\" * (i+1))"
   ]
  },
  {
   "cell_type": "code",
   "execution_count": 15,
   "id": "1e39f0e0",
   "metadata": {},
   "outputs": [
    {
     "name": "stdout",
     "output_type": "stream",
     "text": [
      "   *    \n",
      "  ***  \n",
      " ***** \n"
     ]
    }
   ],
   "source": [
    "n = 3\n",
    "for i in range(3):\n",
    "    print(\" \" * (n-i-1), end= \" \")\n",
    "    print(\"*\" * (2*i+1), end= \" \")\n",
    "    print(\" \" * (n-i-i))\n",
    "    \n",
    "    "
   ]
  },
  {
   "cell_type": "code",
   "execution_count": null,
   "id": "873ace6d",
   "metadata": {},
   "outputs": [],
   "source": []
  },
  {
   "cell_type": "code",
   "execution_count": null,
   "id": "da66e3aa",
   "metadata": {},
   "outputs": [],
   "source": []
  },
  {
   "cell_type": "code",
   "execution_count": null,
   "id": "26368050",
   "metadata": {},
   "outputs": [],
   "source": [
    "5*1=5\n",
    "5*2=10"
   ]
  },
  {
   "cell_type": "code",
   "execution_count": 18,
   "id": "28788847",
   "metadata": {},
   "outputs": [
    {
     "name": "stdout",
     "output_type": "stream",
     "text": [
      "Enter the number 4\n",
      "4.0\n",
      "2.0\n",
      "1.3333333333333333\n",
      "1.0\n",
      "0.8\n",
      "0.6666666666666666\n",
      "0.5714285714285714\n",
      "0.5\n",
      "0.4444444444444444\n",
      "0.4\n"
     ]
    }
   ],
   "source": [
    "num = int(input(\"Enter the number \"))\n",
    "\n",
    "\n",
    "for i in range(1,11):\n",
    "\n",
    "    r = num / i\n",
    "    \n",
    "    print(r)"
   ]
  },
  {
   "cell_type": "code",
   "execution_count": 83,
   "id": "b6cffff7",
   "metadata": {},
   "outputs": [
    {
     "name": "stdout",
     "output_type": "stream",
     "text": [
      "rajii\n",
      "raj\n",
      "ganesh\n",
      "suyash\n"
     ]
    }
   ],
   "source": [
    "rushi = [\"rajii\",\"raj\",\"ganesh\",\"suyash\"]\n",
    "i = 0\n",
    "while i<len(rushi):\n",
    "    print(rushi[i])\n",
    "    i = i + 1"
   ]
  },
  {
   "cell_type": "code",
   "execution_count": 111,
   "id": "80b3c334",
   "metadata": {},
   "outputs": [
    {
     "name": "stdout",
     "output_type": "stream",
     "text": [
      "hello rajii\n",
      "hello raj\n",
      "hello suyash\n",
      "hello ganesh\n"
     ]
    }
   ],
   "source": [
    "rushi = [\"rajii\",\"raj\",\"suyash\",\"ganesh\"]\n",
    "\n",
    "for i in range(4):\n",
    "    print(\"hello\",rushi[i])\n",
    "    i = i + 1\n",
    "    "
   ]
  },
  {
   "cell_type": "code",
   "execution_count": 5,
   "id": "2d3ee9bf",
   "metadata": {},
   "outputs": [
    {
     "name": "stdout",
     "output_type": "stream",
     "text": [
      "good morning rajii\n",
      "good morning raj\n",
      "good morning suyash\n",
      "good morning ganesh\n"
     ]
    }
   ],
   "source": [
    "rushi = [\"rajii\",\"raj\",\"suyash\",\"ganesh\"]\n",
    "\n",
    "for i in range(len(rushi)):\n",
    "    print(\"good morning\", rushi[i])\n",
    "    \n",
    "    \n",
    "    "
   ]
  },
  {
   "cell_type": "code",
   "execution_count": 49,
   "id": "372d70f8",
   "metadata": {},
   "outputs": [
    {
     "name": "stdout",
     "output_type": "stream",
     "text": [
      "\n",
      "*\n",
      "**\n",
      "***\n",
      "****\n"
     ]
    }
   ],
   "source": [
    "r = 0\n",
    "\n",
    "for r in range(5):\n",
    "    print(\"*\" * (r))\n",
    "\n",
    "    "
   ]
  },
  {
   "cell_type": "code",
   "execution_count": 50,
   "id": "b1255473",
   "metadata": {},
   "outputs": [
    {
     "name": "stdout",
     "output_type": "stream",
     "text": [
      "\n",
      "*\n",
      "**\n",
      "***\n",
      "****\n",
      "*****\n",
      "******\n",
      "*******\n",
      "********\n",
      "*********\n",
      "**********\n"
     ]
    }
   ],
   "source": [
    "\n",
    "for i in range(11):\n",
    "    print(\"*\" * (i))"
   ]
  },
  {
   "cell_type": "code",
   "execution_count": 51,
   "id": "2cd6c5ce",
   "metadata": {},
   "outputs": [
    {
     "name": "stdout",
     "output_type": "stream",
     "text": [
      "\n",
      "*\n",
      "**\n",
      "***\n",
      "****\n",
      "*****\n",
      "******\n",
      "*******\n",
      "********\n",
      "*********\n",
      "**********\n"
     ]
    }
   ],
   "source": [
    "r = \"*\"\n",
    "for i in range(11):\n",
    "    print(r*i)"
   ]
  },
  {
   "cell_type": "code",
   "execution_count": 58,
   "id": "12cdcfaa",
   "metadata": {},
   "outputs": [
    {
     "name": "stdout",
     "output_type": "stream",
     "text": [
      "Enter the value5\n",
      "15\n"
     ]
    }
   ],
   "source": [
    "r = int(input(\"Enter the value\"))\n",
    "a = 0\n",
    "i = 1\n",
    "for i in range(r+1):\n",
    "        a = i + a\n",
    "        i = i + 1\n",
    "else:\n",
    "    print(a)\n"
   ]
  },
  {
   "cell_type": "code",
   "execution_count": 64,
   "id": "563f1302",
   "metadata": {},
   "outputs": [
    {
     "name": "stdout",
     "output_type": "stream",
     "text": [
      "enter the name10\n",
      "55\n"
     ]
    }
   ],
   "source": [
    "r = int(input(\"enter the name\"))\n",
    "a = 0\n",
    "\n",
    "for b in range(r):\n",
    "    b = b + 1\n",
    "    a = a + b\n",
    "    \n",
    "else:\n",
    "    print(a)"
   ]
  },
  {
   "cell_type": "code",
   "execution_count": 67,
   "id": "46bdbaeb",
   "metadata": {},
   "outputs": [
    {
     "name": "stdout",
     "output_type": "stream",
     "text": [
      "Enter the number 5\n",
      "120\n"
     ]
    }
   ],
   "source": [
    "r = int(input(\"Enter the number \"))\n",
    "a = 1\n",
    "\n",
    "for i in range(r):\n",
    "    i = i + 1\n",
    "    a = i * a\n",
    "    \n",
    "else:\n",
    "    print(a)"
   ]
  },
  {
   "cell_type": "code",
   "execution_count": 108,
   "id": "754170fc",
   "metadata": {},
   "outputs": [
    {
     "name": "stdout",
     "output_type": "stream",
     "text": [
      "***\n",
      "* *\n",
      "***\n"
     ]
    }
   ],
   "source": [
    "for i in range(1):\n",
    "    print(\"*\" *3)\n",
    "    print(\"* *\" *1)\n",
    "    print(\"*\" *3)"
   ]
  },
  {
   "cell_type": "code",
   "execution_count": 115,
   "id": "bcaa4307",
   "metadata": {},
   "outputs": [
    {
     "name": "stdout",
     "output_type": "stream",
     "text": [
      "  *  \n",
      " * * \n",
      "* * * \n"
     ]
    }
   ],
   "source": [
    "for i in range(1):\n",
    "    print(\"  *  \"*1)\n",
    "    print(\" * * \"*1)\n",
    "    print(\"* \"*3)"
   ]
  },
  {
   "cell_type": "markdown",
   "id": "c8c0ed8d",
   "metadata": {},
   "source": [
    "### Sum of natural no"
   ]
  },
  {
   "cell_type": "code",
   "execution_count": 5,
   "id": "e94ef40b",
   "metadata": {},
   "outputs": [
    {
     "name": "stdout",
     "output_type": "stream",
     "text": [
      "Enter the number: 4\n",
      "10\n"
     ]
    }
   ],
   "source": [
    "r = int(input(\"Enter the number: \"))\n",
    "i = 0\n",
    "a = 0\n",
    "for i in range(r+1):\n",
    "#     i = i+1\n",
    "    a = a+i\n",
    "else:\n",
    "    print(a)\n",
    "    "
   ]
  },
  {
   "cell_type": "code",
   "execution_count": 8,
   "id": "b1159984",
   "metadata": {},
   "outputs": [
    {
     "name": "stdout",
     "output_type": "stream",
     "text": [
      "Enter the number: 4\n",
      "1\n",
      "3\n",
      "6\n",
      "10\n"
     ]
    }
   ],
   "source": [
    "r = int(input(\"Enter the number: \"))\n",
    "i = 0\n",
    "a = 0\n",
    "for i in range(r):\n",
    "    i = i+1\n",
    "    a = a+i\n",
    "    print(a)"
   ]
  },
  {
   "cell_type": "markdown",
   "id": "bea8b07b",
   "metadata": {},
   "source": [
    "###  Facririal of natural number\n"
   ]
  },
  {
   "cell_type": "code",
   "execution_count": 14,
   "id": "1565226b",
   "metadata": {
    "scrolled": true
   },
   "outputs": [
    {
     "name": "stdout",
     "output_type": "stream",
     "text": [
      "enter the name 5\n",
      "1\n",
      "2\n",
      "6\n",
      "24\n",
      "120\n"
     ]
    }
   ],
   "source": [
    "r = int(input(\"enter the name \")) \n",
    "a = 1\n",
    "for i in range(r):\n",
    "    i = i + 1\n",
    "    a = a * i\n",
    "    print(a)\n",
    "    \n",
    "    \n",
    "    "
   ]
  },
  {
   "cell_type": "code",
   "execution_count": 1,
   "id": "d65dc94e",
   "metadata": {},
   "outputs": [
    {
     "name": "stdout",
     "output_type": "stream",
     "text": [
      "enter the name 10\n",
      "3628800\n"
     ]
    }
   ],
   "source": [
    "r = int(input(\"enter the name \")) \n",
    "a = 1\n",
    "for i in range(r):\n",
    "    i = i + 1\n",
    "    a = a * i\n",
    "else:\n",
    "    print(a)"
   ]
  },
  {
   "cell_type": "code",
   "execution_count": 22,
   "id": "307a6125",
   "metadata": {},
   "outputs": [
    {
     "name": "stdout",
     "output_type": "stream",
     "text": [
      "   * \n",
      "  ***\n",
      " *****\n"
     ]
    }
   ],
   "source": [
    "for i in range(1):\n",
    "    print(\"   * \"*1)\n",
    "    print(\"  ***\"*1)\n",
    "    print(\" *****\"*1)"
   ]
  },
  {
   "cell_type": "code",
   "execution_count": 23,
   "id": "9ce646ed",
   "metadata": {},
   "outputs": [
    {
     "name": "stdout",
     "output_type": "stream",
     "text": [
      "   *    \n",
      "  ***  \n",
      " ***** \n"
     ]
    }
   ],
   "source": [
    "n = 3\n",
    "for i in range(3):\n",
    "    print(\" \" * (n-i-1), end= \" \")\n",
    "    print(\"*\" * (2*i+1), end= \" \")\n",
    "    print(\" \" * (n-i-i))"
   ]
  },
  {
   "cell_type": "code",
   "execution_count": 35,
   "id": "e2db0da5",
   "metadata": {},
   "outputs": [
    {
     "name": "stdout",
     "output_type": "stream",
     "text": [
      "***\n",
      "* *\n",
      "***\n"
     ]
    }
   ],
   "source": [
    "n = 1\n",
    "for i in range(1):\n",
    "    print(\"*\" * (3))\n",
    "    print(\"* *\" * (1))\n",
    "    print(\"*\" * (3))"
   ]
  },
  {
   "cell_type": "code",
   "execution_count": 4,
   "id": "f4603c89",
   "metadata": {},
   "outputs": [
    {
     "name": "stdout",
     "output_type": "stream",
     "text": [
      "Enter the number:5\n",
      "*****\n",
      "****\n",
      "***\n",
      "**\n",
      "*\n"
     ]
    }
   ],
   "source": [
    "n = int(input(\"Enter the number:\"))\n",
    "\n",
    "for i in range(n):\n",
    "    for j in range(n-i):\n",
    "        print(\"*\",end=\"\")\n",
    "    print()"
   ]
  },
  {
   "cell_type": "code",
   "execution_count": 6,
   "id": "4f91d473",
   "metadata": {},
   "outputs": [
    {
     "name": "stdout",
     "output_type": "stream",
     "text": [
      "Enter the number:7\n",
      "*\n",
      "**\n",
      "***\n",
      "****\n",
      "*****\n",
      "******\n",
      "*******\n"
     ]
    }
   ],
   "source": [
    "n = int(input(\"Enter the number:\"))\n",
    "\n",
    "for i in range(n):\n",
    "    for j in range(i+1):\n",
    "        print(\"*\",end=\"\")\n",
    "    print()"
   ]
  },
  {
   "cell_type": "code",
   "execution_count": 13,
   "id": "a6f25753",
   "metadata": {},
   "outputs": [
    {
     "name": "stdout",
     "output_type": "stream",
     "text": [
      "Enter the username: fgfftftftftfgygygh\n",
      "the username having more character than required\n"
     ]
    }
   ],
   "source": [
    "text = input(\"Enter the username: \")\n",
    "\n",
    "if(len(text)<10):\n",
    "\n",
    "    print(\"the username contains less than character\")\n",
    "    \n",
    "    \n",
    "    \n",
    "    \n",
    "    \n",
    "    \n",
    "else:\n",
    "    print(\"the username having more character than required\")"
   ]
  },
  {
   "cell_type": "code",
   "execution_count": null,
   "id": "ec7cb1a6",
   "metadata": {},
   "outputs": [],
   "source": []
  }
 ],
 "metadata": {
  "kernelspec": {
   "display_name": "Python 3 (ipykernel)",
   "language": "python",
   "name": "python3"
  },
  "language_info": {
   "codemirror_mode": {
    "name": "ipython",
    "version": 3
   },
   "file_extension": ".py",
   "mimetype": "text/x-python",
   "name": "python",
   "nbconvert_exporter": "python",
   "pygments_lexer": "ipython3",
   "version": "3.9.12"
  }
 },
 "nbformat": 4,
 "nbformat_minor": 5
}
